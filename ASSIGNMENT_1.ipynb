{
 "cells": [
  {
   "cell_type": "code",
   "execution_count": 4,
   "id": "86449b80-0398-4863-8301-cda4a3b177cc",
   "metadata": {},
   "outputs": [
    {
     "name": "stdin",
     "output_type": "stream",
     "text": [
      "Enter a string:  aman\n"
     ]
    },
    {
     "name": "stdout",
     "output_type": "stream",
     "text": [
      "Reversed string: nama\n"
     ]
    }
   ],
   "source": [
    "#Q1\n",
    "def reverse_string(input_string):\n",
    "    reversed_string = \"\"\n",
    "    for char in input_string[::-1]:  # Iterate the string in reverse order\n",
    "        reversed_string += char\n",
    "    return reversed_string\n",
    "\n",
    "# Test the function\n",
    "if __name__ == \"__main__\":\n",
    "    input_str = input(\"Enter a string: \")\n",
    "    reversed_str = reverse_string(input_str)\n",
    "    print(\"Reversed string:\", reversed_str)\n"
   ]
  },
  {
   "cell_type": "code",
   "execution_count": 5,
   "id": "8cf90d63-1f85-4f6b-adee-87a8152363c6",
   "metadata": {},
   "outputs": [
    {
     "name": "stdout",
     "output_type": "stream",
     "text": [
      "True\n",
      "False\n",
      "True\n"
     ]
    }
   ],
   "source": [
    "#Q2\n",
    "def is_palindrome(s):\n",
    "    # Remove spaces and convert the string to lowercase\n",
    "    s = s.replace(\" \", \"\").lower()\n",
    "    \n",
    "    # Compare the string with its reverse\n",
    "    return s == s[::-1]\n",
    "\n",
    "# Test the function\n",
    "print(is_palindrome(\"racecar\"))    # True\n",
    "print(is_palindrome(\"hello\"))      # False\n",
    "print(is_palindrome(\"A man a plan a canal Panama\"))  # True\n"
   ]
  },
  {
   "cell_type": "code",
   "execution_count": 6,
   "id": "7c7b0be5-9494-4c1e-a46f-08a8d14d88d1",
   "metadata": {},
   "outputs": [
    {
     "name": "stdout",
     "output_type": "stream",
     "text": [
      "The largest element in the list is: 100\n"
     ]
    }
   ],
   "source": [
    "#Q3\n",
    "def find_largest_element(input_list):\n",
    "    if not input_list:\n",
    "        return None\n",
    "\n",
    "    largest_element = input_list[0]\n",
    "    for element in input_list:\n",
    "        if element > largest_element:\n",
    "            largest_element = element\n",
    "\n",
    "    return largest_element\n",
    "\n",
    "# Test the function\n",
    "if __name__ == \"__main__\":\n",
    "    input_list = [45, 12, 67, 89, 34, 100, 23]\n",
    "    largest_element = find_largest_element(input_list)\n",
    "    print(\"The largest element in the list is:\", largest_element)\n"
   ]
  },
  {
   "cell_type": "code",
   "execution_count": 8,
   "id": "54aacd05-8390-41c8-af95-34a74bb5d31e",
   "metadata": {},
   "outputs": [
    {
     "name": "stdout",
     "output_type": "stream",
     "text": [
      "{1: 3, 2: 3, 3: 2, 4: 1, 5: 2, 6: 1}\n"
     ]
    }
   ],
   "source": [
    "#Q4\n",
    "def count_occurrences(lst):\n",
    "    occurrences = {}\n",
    "    \n",
    "    for item in lst:\n",
    "        occurrences[item] = occurrences.get(item, 0) + 1\n",
    "    \n",
    "    return occurrences\n",
    "sample_list = [1, 2, 3, 1, 2, 4, 2, 5, 6, 1, 5, 3]\n",
    "result = count_occurrences(sample_list)\n",
    "print(result)\n",
    "\n"
   ]
  },
  {
   "cell_type": "code",
   "execution_count": 9,
   "id": "14e47e5a-2805-491d-bb8e-82d6dc0f75e7",
   "metadata": {},
   "outputs": [
    {
     "name": "stdin",
     "output_type": "stream",
     "text": [
      "Enter a list of numbers separated by spaces:  1 2 3\n"
     ]
    },
    {
     "name": "stdout",
     "output_type": "stream",
     "text": [
      "The second largest number in the list is: 2\n"
     ]
    }
   ],
   "source": [
    "#Q5\n",
    "def find_second_largest(numbers):\n",
    "    if len(numbers) < 2:\n",
    "        return \"List must have at least two elements\"\n",
    "\n",
    "    largest = second_largest = float('-inf')\n",
    "\n",
    "    for num in numbers:\n",
    "        if num > largest:\n",
    "            second_largest = largest\n",
    "            largest = num\n",
    "        elif num > second_largest and num != largest:\n",
    "            second_largest = num\n",
    "\n",
    "    if second_largest == float('-inf'):\n",
    "        return \"There is no second largest element in the list\"\n",
    "    else:\n",
    "        return second_largest\n",
    "\n",
    "\n",
    "# Test the function\n",
    "if __name__ == \"__main__\":\n",
    "    try:\n",
    "        num_list = list(map(int, input(\"Enter a list of numbers separated by spaces: \").split()))\n",
    "        second_largest_num = find_second_largest(num_list)\n",
    "        print(\"The second largest number in the list is:\", second_largest_num)\n",
    "    except ValueError:\n",
    "        print(\"Invalid input. Please enter a valid list of numbers.\")\n"
   ]
  },
  {
   "cell_type": "code",
   "execution_count": 10,
   "id": "0383cf46-914f-44b7-ad7e-57be1bb0509f",
   "metadata": {},
   "outputs": [
    {
     "name": "stdout",
     "output_type": "stream",
     "text": [
      "[1, 2, 3, 4, 5, 6]\n"
     ]
    }
   ],
   "source": [
    "#Q6\n",
    "def remove_duplicates(input_list):\n",
    "    unique_list = []\n",
    "    for item in input_list:\n",
    "        if item not in unique_list:\n",
    "            unique_list.append(item)\n",
    "    return unique_list\n",
    "my_list = [1, 2, 2, 3, 4, 4, 5, 5, 6]\n",
    "result_list = remove_duplicates(my_list)\n",
    "print(result_list)  # Output: [1, 2, 3, 4, 5, 6]\n"
   ]
  },
  {
   "cell_type": "code",
   "execution_count": 11,
   "id": "26f16a9e-4771-4621-8061-39bc084b313d",
   "metadata": {},
   "outputs": [
    {
     "name": "stdin",
     "output_type": "stream",
     "text": [
      "Enter a non-negative integer:  5\n"
     ]
    },
    {
     "name": "stdout",
     "output_type": "stream",
     "text": [
      "The factorial of 5 is: 120\n"
     ]
    }
   ],
   "source": [
    "#Q7\n",
    "def factorial(n):\n",
    "    if n == 0 or n == 1:\n",
    "        return 1\n",
    "    else:\n",
    "        return n * factorial(n - 1)\n",
    "\n",
    "if __name__ == \"__main__\":\n",
    "    try:\n",
    "        num = int(input(\"Enter a non-negative integer: \"))\n",
    "        if num < 0:\n",
    "            print(\"Factorial is not defined for negative numbers.\")\n",
    "        else:\n",
    "            result = factorial(num)\n",
    "            print(f\"The factorial of {num} is: {result}\")\n",
    "    except ValueError:\n",
    "        print(\"Invalid input. Please enter a valid non-negative integer.\")\n"
   ]
  },
  {
   "cell_type": "code",
   "execution_count": 12,
   "id": "36f87035-2b25-4676-be35-6f2fc1e8957a",
   "metadata": {},
   "outputs": [
    {
     "name": "stdin",
     "output_type": "stream",
     "text": [
      "Enter a number to check if it's prime:  8\n"
     ]
    },
    {
     "name": "stdout",
     "output_type": "stream",
     "text": [
      "8 is not a prime number.\n"
     ]
    }
   ],
   "source": [
    "#Q8\n",
    "def is_prime(number):\n",
    "    if number < 2:\n",
    "        return False\n",
    "    elif number == 2:\n",
    "        return True\n",
    "    elif number % 2 == 0:\n",
    "        return False\n",
    "\n",
    "    # We only need to check for divisors up to the square root of the number.\n",
    "    # If there are no divisors up to the square root, then there are no divisors beyond that point.\n",
    "    # Hence, we can check up to int(sqrt(number)) + 1.\n",
    "    for i in range(3, int(number**0.5) + 1, 2):\n",
    "        if number % i == 0:\n",
    "            return False\n",
    "\n",
    "    return True\n",
    "\n",
    "if __name__ == \"__main__\":\n",
    "    try:\n",
    "        num = int(input(\"Enter a number to check if it's prime: \"))\n",
    "        if is_prime(num):\n",
    "            print(f\"{num} is a prime number.\")\n",
    "        else:\n",
    "            print(f\"{num} is not a prime number.\")\n",
    "    except ValueError:\n",
    "        print(\"Invalid input. Please enter a valid integer.\")\n"
   ]
  },
  {
   "cell_type": "code",
   "execution_count": 13,
   "id": "ad98b354-79d1-46e3-802f-8aa812bd946e",
   "metadata": {},
   "outputs": [
    {
     "name": "stdin",
     "output_type": "stream",
     "text": [
      "Enter a list of integers (space-separated):  2 5 4\n"
     ]
    },
    {
     "name": "stdout",
     "output_type": "stream",
     "text": [
      "Sorted list in ascending order: [2, 4, 5]\n"
     ]
    }
   ],
   "source": [
    "#Q9\n",
    "def sort_list_asc(lst):\n",
    "    sorted_lst = sorted(lst)\n",
    "    return sorted_lst\n",
    "\n",
    "if __name__ == \"__main__\":\n",
    "    try:\n",
    "        num_list = input(\"Enter a list of integers (space-separated): \").split()\n",
    "        num_list = [int(num) for num in num_list]\n",
    "        sorted_list = sort_list_asc(num_list)\n",
    "        print(\"Sorted list in ascending order:\", sorted_list)\n",
    "    except ValueError:\n",
    "        print(\"Invalid input. Please enter a list of integers.\")\n"
   ]
  },
  {
   "cell_type": "code",
   "execution_count": 14,
   "id": "856d8bfa-83fe-405f-aa36-4938f50cf64e",
   "metadata": {},
   "outputs": [
    {
     "name": "stdout",
     "output_type": "stream",
     "text": [
      "The sum of the numbers in the list is: 15\n"
     ]
    }
   ],
   "source": [
    "#Q10\n",
    "def find_sum(numbers_list):\n",
    "    total_sum = 0\n",
    "    for number in numbers_list:\n",
    "        total_sum += number\n",
    "    return total_sum\n",
    "\n",
    "# Example usage:\n",
    "if __name__ == \"__main__\":\n",
    "    numbers = [1, 2, 3, 4, 5]\n",
    "    result = find_sum(numbers)\n",
    "    print(\"The sum of the numbers in the list is:\", result)\n"
   ]
  },
  {
   "cell_type": "code",
   "execution_count": 15,
   "id": "533a4353-43bb-4c66-a64e-ff284f487ba8",
   "metadata": {},
   "outputs": [
    {
     "name": "stdin",
     "output_type": "stream",
     "text": [
      "Enter elements of the first list separated by spaces:  1 5 4\n",
      "Enter elements of the second list separated by spaces:  1 8 9\n"
     ]
    },
    {
     "name": "stdout",
     "output_type": "stream",
     "text": [
      "Common elements between the two lists: [1]\n"
     ]
    }
   ],
   "source": [
    "#Q11\n",
    "def find_common_elements(list1, list2):\n",
    "    common_elements = []\n",
    "    for item in list1:\n",
    "        if item in list2 and item not in common_elements:\n",
    "            common_elements.append(item)\n",
    "    return common_elements\n",
    "\n",
    "if __name__ == \"__main__\":\n",
    "    try:\n",
    "        list1 = input(\"Enter elements of the first list separated by spaces: \").split()\n",
    "        list2 = input(\"Enter elements of the second list separated by spaces: \").split()\n",
    "        \n",
    "        # Convert the input strings to lists of integers (assuming elements are integers)\n",
    "        list1 = [int(item) for item in list1]\n",
    "        list2 = [int(item) for item in list2]\n",
    "\n",
    "        common_elements = find_common_elements(list1, list2)\n",
    "\n",
    "        if common_elements:\n",
    "            print(\"Common elements between the two lists:\", common_elements)\n",
    "        else:\n",
    "            print(\"There are no common elements between the two lists.\")\n",
    "    except ValueError:\n",
    "        print(\"Invalid input. Please enter valid elements separated by spaces.\")\n"
   ]
  },
  {
   "cell_type": "code",
   "execution_count": 1,
   "id": "aa9b703d-4e86-4d92-a388-c714043d0f28",
   "metadata": {},
   "outputs": [
    {
     "name": "stdin",
     "output_type": "stream",
     "text": [
      "Enter the first string:  AMAN\n",
      "Enter the second string:  SHASHWAT\n"
     ]
    },
    {
     "name": "stdout",
     "output_type": "stream",
     "text": [
      "The strings are not anagrams.\n"
     ]
    }
   ],
   "source": [
    "#Q12\n",
    "def is_anagram(s1, s2):\n",
    "    # Remove any spaces and convert both strings to lowercase\n",
    "    s1 = s1.replace(\" \", \"\").lower()\n",
    "    s2 = s2.replace(\" \", \"\").lower()\n",
    "\n",
    "    # Check if the lengths are different, if so, they can't be anagrams\n",
    "    if len(s1) != len(s2):\n",
    "        return False\n",
    "\n",
    "    # Create dictionaries to store character frequencies for both strings\n",
    "    char_freq_s1 = {}\n",
    "    char_freq_s2 = {}\n",
    "\n",
    "    # Count the frequency of each character in s1\n",
    "    for char in s1:\n",
    "        char_freq_s1[char] = char_freq_s1.get(char, 0) + 1\n",
    "\n",
    "    # Count the frequency of each character in s2\n",
    "    for char in s2:\n",
    "        char_freq_s2[char] = char_freq_s2.get(char, 0) + 1\n",
    "\n",
    "    # Compare the character frequencies of both strings\n",
    "    return char_freq_s1 == char_freq_s2\n",
    "\n",
    "if __name__ == \"__main__\":\n",
    "    str1 = input(\"Enter the first string: \")\n",
    "    str2 = input(\"Enter the second string: \")\n",
    "\n",
    "    if is_anagram(str1, str2):\n",
    "        print(\"The strings are anagrams.\")\n",
    "    else:\n",
    "        print(\"The strings are not anagrams.\")\n"
   ]
  },
  {
   "cell_type": "code",
   "execution_count": 2,
   "id": "53899d2a-6668-4aae-955a-190f9903b859",
   "metadata": {},
   "outputs": [
    {
     "name": "stdin",
     "output_type": "stream",
     "text": [
      "Enter a string:  AMAN\n"
     ]
    },
    {
     "name": "stdout",
     "output_type": "stream",
     "text": [
      "All permutations of the string:\n",
      "AMAN\n",
      "MAAN\n",
      "MAAN\n",
      "MANA\n",
      "AAMN\n",
      "AAMN\n",
      "AMAN\n",
      "AMNA\n",
      "AANM\n",
      "AANM\n",
      "ANAM\n",
      "ANMA\n",
      "AMNA\n",
      "MANA\n",
      "MNAA\n",
      "MNAA\n",
      "ANMA\n",
      "NAMA\n",
      "NMAA\n",
      "NMAA\n",
      "ANAM\n",
      "NAAM\n",
      "NAAM\n",
      "NAMA\n"
     ]
    }
   ],
   "source": [
    "#Q13\n",
    "def generate_permutations(string):\n",
    "    if len(string) == 0:\n",
    "        return ['']\n",
    "    \n",
    "    first_char = string[0]\n",
    "    remaining_chars = string[1:]\n",
    "    \n",
    "    # Recursively generate permutations for the remaining characters\n",
    "    permutations = generate_permutations(remaining_chars)\n",
    "    \n",
    "    result = []\n",
    "    \n",
    "    # Insert the first character into different positions of each permutation\n",
    "    for permutation in permutations:\n",
    "        for i in range(len(permutation) + 1):\n",
    "            new_permutation = permutation[:i] + first_char + permutation[i:]\n",
    "            result.append(new_permutation)\n",
    "            \n",
    "    return result\n",
    "\n",
    "if __name__ == \"__main__\":\n",
    "    input_string = input(\"Enter a string: \")\n",
    "    all_permutations = generate_permutations(input_string)\n",
    "    print(\"All permutations of the string:\")\n",
    "    for permutation in all_permutations:\n",
    "        print(permutation)\n",
    "\n"
   ]
  },
  {
   "cell_type": "code",
   "execution_count": 3,
   "id": "63bf9a92-cb08-4a8d-9513-179604fa8012",
   "metadata": {},
   "outputs": [
    {
     "name": "stdout",
     "output_type": "stream",
     "text": [
      "[0, 1, 1, 2, 3, 5, 8, 13, 21, 34]\n"
     ]
    }
   ],
   "source": [
    "#Q14\n",
    "def fibonacci_sequence(n_terms):\n",
    "    # Check for special cases when the number of terms is 0 or 1\n",
    "    if n_terms == 0:\n",
    "        return []\n",
    "    elif n_terms == 1:\n",
    "        return [0]\n",
    "\n",
    "    # Initialize the first two terms of the sequence\n",
    "    fib_sequence = [0, 1]\n",
    "\n",
    "    # Generate the Fibonacci sequence up to n_terms\n",
    "    while len(fib_sequence) < n_terms:\n",
    "        next_term = fib_sequence[-1] + fib_sequence[-2]\n",
    "        fib_sequence.append(next_term)\n",
    "\n",
    "    return fib_sequence\n",
    "\n",
    "# Example usage:\n",
    "num_terms = 10\n",
    "result = fibonacci_sequence(num_terms)\n",
    "print(result)\n"
   ]
  },
  {
   "cell_type": "code",
   "execution_count": 4,
   "id": "ff6fa2cc-afce-46c6-aaa0-f1e2143443ab",
   "metadata": {},
   "outputs": [
    {
     "name": "stdin",
     "output_type": "stream",
     "text": [
      "Enter a list of numbers separated by spaces:  1 5 4 6\n"
     ]
    },
    {
     "name": "stdout",
     "output_type": "stream",
     "text": [
      "The median is: 4.5\n"
     ]
    }
   ],
   "source": [
    "#Q15\n",
    "def find_median(numbers):\n",
    "    sorted_numbers = sorted(numbers)\n",
    "    n = len(sorted_numbers)\n",
    "\n",
    "    if n % 2 == 1:  # Odd number of elements\n",
    "        median = sorted_numbers[n // 2]\n",
    "    else:  # Even number of elements\n",
    "        middle_right = n // 2\n",
    "        middle_left = middle_right - 1\n",
    "        median = (sorted_numbers[middle_left] + sorted_numbers[middle_right]) / 2\n",
    "\n",
    "    return median\n",
    "\n",
    "# Test the program\n",
    "if __name__ == \"__main__\":\n",
    "    try:\n",
    "        input_list = [float(x) for x in input(\"Enter a list of numbers separated by spaces: \").split()]\n",
    "        median_value = find_median(input_list)\n",
    "        print(\"The median is:\", median_value)\n",
    "    except ValueError:\n",
    "        print(\"Invalid input. Please enter a valid list of numbers.\")\n"
   ]
  },
  {
   "cell_type": "code",
   "execution_count": 5,
   "id": "985ece9f-957c-4b8e-9ca7-24fd1063efe9",
   "metadata": {},
   "outputs": [
    {
     "name": "stdout",
     "output_type": "stream",
     "text": [
      "True\n",
      "False\n",
      "False\n",
      "True\n"
     ]
    }
   ],
   "source": [
    "#Q16\n",
    "def is_sorted(lst):\n",
    "    \"\"\"\n",
    "    Check if a given list is sorted in non-decreasing order.\n",
    "\n",
    "    Parameters:\n",
    "        lst (list): The list to check.\n",
    "\n",
    "    Returns:\n",
    "        bool: True if the list is sorted in non-decreasing order, False otherwise.\n",
    "    \"\"\"\n",
    "    for i in range(1, len(lst)):\n",
    "        if lst[i] < lst[i - 1]:\n",
    "            return False\n",
    "    return True\n",
    "\n",
    "# Test cases\n",
    "print(is_sorted([1, 2, 3, 4, 5]))    # Output: True\n",
    "print(is_sorted([5, 4, 3, 2, 1]))    # Output: False\n",
    "print(is_sorted([1, 3, 2, 4, 5]))    # Output: False\n",
    "print(is_sorted([1, 1, 2, 2, 3]))    # Output: True\n"
   ]
  },
  {
   "cell_type": "code",
   "execution_count": 6,
   "id": "6909c788-7599-42f5-8916-d92d63af931d",
   "metadata": {},
   "outputs": [
    {
     "name": "stdout",
     "output_type": "stream",
     "text": [
      "Intersection of the two lists: [4, 5]\n"
     ]
    }
   ],
   "source": [
    "#Q17\n",
    "def find_intersection(list1, list2):\n",
    "    # Convert the lists to sets\n",
    "    set1 = set(list1)\n",
    "    set2 = set(list2)\n",
    "\n",
    "    # Find the intersection using the intersection() method\n",
    "    intersection_result = set1.intersection(set2)\n",
    "\n",
    "    # Convert the intersection set back to a list\n",
    "    intersection_list = list(intersection_result)\n",
    "\n",
    "    return intersection_list\n",
    "\n",
    "\n",
    "# Example usage:\n",
    "if __name__ == \"__main__\":\n",
    "    list1 = [1, 2, 3, 4, 5]\n",
    "    list2 = [4, 5, 6, 7, 8]\n",
    "\n",
    "    intersection_list = find_intersection(list1, list2)\n",
    "    print(\"Intersection of the two lists:\", intersection_list)\n"
   ]
  },
  {
   "cell_type": "code",
   "execution_count": 7,
   "id": "237c089c-3b16-44bd-8fde-5cad439547c5",
   "metadata": {},
   "outputs": [
    {
     "name": "stdout",
     "output_type": "stream",
     "text": [
      "Maximum subarray sum: 12\n"
     ]
    }
   ],
   "source": [
    "#Q18\n",
    "def max_subarray_sum(arr):\n",
    "    if not arr:\n",
    "        return 0\n",
    "\n",
    "    max_sum = arr[0]\n",
    "    current_sum = arr[0]\n",
    "\n",
    "    for num in arr[1:]:\n",
    "        current_sum = max(num, current_sum + num)\n",
    "        max_sum = max(max_sum, current_sum)\n",
    "\n",
    "    return max_sum\n",
    "\n",
    "# Example usage:\n",
    "arr = [1, -3, 5, -2, 9, -8, -6, 4]\n",
    "result = max_subarray_sum(arr)\n",
    "print(\"Maximum subarray sum:\", result)\n"
   ]
  },
  {
   "cell_type": "code",
   "execution_count": 8,
   "id": "fd5859af-f42f-453c-b686-e0209405060f",
   "metadata": {},
   "outputs": [
    {
     "name": "stdin",
     "output_type": "stream",
     "text": [
      "Enter a string:  AAMANA\n"
     ]
    },
    {
     "name": "stdout",
     "output_type": "stream",
     "text": [
      "String without vowels: MN\n"
     ]
    }
   ],
   "source": [
    "#Q19\n",
    "def remove_vowels(string):\n",
    "    vowels = \"aeiouAEIOU\"  # List of vowels\n",
    "    result = \"\"\n",
    "    \n",
    "    for char in string:\n",
    "        if char not in vowels:\n",
    "            result += char\n",
    "    \n",
    "    return result\n",
    "\n",
    "# Example usage\n",
    "input_string = input(\"Enter a string: \")\n",
    "output_string = remove_vowels(input_string)\n",
    "print(\"String without vowels:\", output_string)\n"
   ]
  },
  {
   "cell_type": "code",
   "execution_count": 9,
   "id": "f5cf6787-a10f-4734-a177-30c6fe339e10",
   "metadata": {},
   "outputs": [
    {
     "name": "stdout",
     "output_type": "stream",
     "text": [
      "you? are how Hello,\n"
     ]
    }
   ],
   "source": [
    "#Q20\n",
    "def reverse_sentence(sentence):\n",
    "    # Split the sentence into a list of words\n",
    "    words = sentence.split()\n",
    "\n",
    "    # Reverse the order of the words\n",
    "    reversed_words = words[::-1]\n",
    "\n",
    "    # Join the reversed words back into a sentence\n",
    "    reversed_sentence = ' '.join(reversed_words)\n",
    "\n",
    "    return reversed_sentence\n",
    "sentence = \"Hello, how are you?\"\n",
    "reversed_sentence = reverse_sentence(sentence)\n",
    "print(reversed_sentence)\n"
   ]
  },
  {
   "cell_type": "code",
   "execution_count": 10,
   "id": "4606dffe-5d22-4eab-a925-f5fcd6cce817",
   "metadata": {},
   "outputs": [
    {
     "name": "stdout",
     "output_type": "stream",
     "text": [
      "listen and silent are anagrams.\n",
      "hello and world are not anagrams.\n"
     ]
    }
   ],
   "source": [
    "#Q21\n",
    "def are_anagrams(str1, str2):\n",
    "    # Remove whitespaces and convert both strings to lowercase\n",
    "    str1 = str1.replace(\" \", \"\").lower()\n",
    "    str2 = str2.replace(\" \", \"\").lower()\n",
    "\n",
    "    # Check if the lengths of the strings are different\n",
    "    if len(str1) != len(str2):\n",
    "        return False\n",
    "\n",
    "    # Create dictionaries to store character frequencies for each string\n",
    "    char_freq_1 = {}\n",
    "    char_freq_2 = {}\n",
    "\n",
    "    # Count the frequency of each character in str1 and store it in char_freq_1\n",
    "    for char in str1:\n",
    "        char_freq_1[char] = char_freq_1.get(char, 0) + 1\n",
    "\n",
    "    # Count the frequency of each character in str2 and store it in char_freq_2\n",
    "    for char in str2:\n",
    "        char_freq_2[char] = char_freq_2.get(char, 0) + 1\n",
    "\n",
    "    # Compare the character frequencies for both strings\n",
    "    return char_freq_1 == char_freq_2\n",
    "\n",
    "# Test cases\n",
    "if __name__ == \"__main__\":\n",
    "    str1 = \"listen\"\n",
    "    str2 = \"silent\"\n",
    "    if are_anagrams(str1, str2):\n",
    "        print(f\"{str1} and {str2} are anagrams.\")\n",
    "    else:\n",
    "        print(f\"{str1} and {str2} are not anagrams.\")\n",
    "\n",
    "    str3 = \"hello\"\n",
    "    str4 = \"world\"\n",
    "    if are_anagrams(str3, str4):\n",
    "        print(f\"{str3} and {str4} are anagrams.\")\n",
    "    else:\n",
    "        print(f\"{str3} and {str4} are not anagrams.\")\n"
   ]
  },
  {
   "cell_type": "code",
   "execution_count": 11,
   "id": "1dd1d05c-914c-4a19-81cd-1a0af4af73fb",
   "metadata": {},
   "outputs": [
    {
     "name": "stdout",
     "output_type": "stream",
     "text": [
      "First non-repeating character: d\n"
     ]
    }
   ],
   "source": [
    "#Q22\n",
    "def first_non_repeating_character(s):\n",
    "    # Create a dictionary to store the frequency of each character\n",
    "    char_freq = {}\n",
    "    \n",
    "    # Traverse the string and populate the dictionary\n",
    "    for char in s:\n",
    "        char_freq[char] = char_freq.get(char, 0) + 1\n",
    "    \n",
    "    # Traverse the string again to find the first non-repeating character\n",
    "    for char in s:\n",
    "        if char_freq[char] == 1:\n",
    "            return char\n",
    "    \n",
    "    # If there is no non-repeating character, return None\n",
    "    return None\n",
    "\n",
    "# Test the function\n",
    "input_string = \"abacbcd\"\n",
    "result = first_non_repeating_character(input_string)\n",
    "print(\"First non-repeating character:\", result)  # Output: 'd'\n"
   ]
  },
  {
   "cell_type": "code",
   "execution_count": 12,
   "id": "59ce0580-10f8-4258-af6c-9bd601f69f89",
   "metadata": {},
   "outputs": [
    {
     "name": "stdin",
     "output_type": "stream",
     "text": [
      "Enter a positive integer:  45\n"
     ]
    },
    {
     "name": "stdout",
     "output_type": "stream",
     "text": [
      "Prime factors of 45: [3, 5]\n"
     ]
    }
   ],
   "source": [
    "#Q23\n",
    "def is_prime(num):\n",
    "    if num < 2:\n",
    "        return False\n",
    "    for i in range(2, int(num**0.5) + 1):\n",
    "        if num % i == 0:\n",
    "            return False\n",
    "    return True\n",
    "\n",
    "def prime_factors(num):\n",
    "    factors = []\n",
    "    for i in range(2, num + 1):\n",
    "        if is_prime(i) and num % i == 0:\n",
    "            factors.append(i)\n",
    "            while num % i == 0:\n",
    "                num //= i\n",
    "        if num == 1:\n",
    "            break\n",
    "    return factors\n",
    "\n",
    "def main():\n",
    "    try:\n",
    "        number = int(input(\"Enter a positive integer: \"))\n",
    "        if number <= 0:\n",
    "            print(\"Please enter a positive integer.\")\n",
    "        else:\n",
    "            factors = prime_factors(number)\n",
    "            print(f\"Prime factors of {number}: {factors}\")\n",
    "    except ValueError:\n",
    "        print(\"Invalid input. Please enter a valid positive integer.\")\n",
    "\n",
    "if __name__ == \"__main__\":\n",
    "    main()\n"
   ]
  },
  {
   "cell_type": "code",
   "execution_count": 13,
   "id": "efa728d9-78ae-4bba-bf88-0359d0f271b4",
   "metadata": {},
   "outputs": [
    {
     "name": "stdout",
     "output_type": "stream",
     "text": [
      "True\n",
      "True\n",
      "True\n",
      "True\n",
      "True\n",
      "False\n",
      "False\n",
      "False\n"
     ]
    }
   ],
   "source": [
    "#Q24\n",
    "def is_power_of_two(number):\n",
    "    # A power of two has only one bit set\n",
    "    # so we can check if the number is positive and if it has only one set bit.\n",
    "    return number > 0 and (number & (number - 1)) == 0\n",
    "\n",
    "# Test cases\n",
    "print(is_power_of_two(1))   # Output: True\n",
    "print(is_power_of_two(2))   # Output: True\n",
    "print(is_power_of_two(4))   # Output: True\n",
    "print(is_power_of_two(8))   # Output: True\n",
    "print(is_power_of_two(16))  # Output: True\n",
    "print(is_power_of_two(3))   # Output: False\n",
    "print(is_power_of_two(6))   # Output: False\n",
    "print(is_power_of_two(10))  # Output: False\n"
   ]
  },
  {
   "cell_type": "code",
   "execution_count": 14,
   "id": "95d9c7f8-1e2d-40e5-b6e3-7d481f0f3e5d",
   "metadata": {},
   "outputs": [
    {
     "name": "stdout",
     "output_type": "stream",
     "text": [
      "Merged Sorted List: [1, 2, 3, 4, 5, 6, 7, 8, 9, 10]\n"
     ]
    }
   ],
   "source": [
    "#Q25\n",
    "def merge_sorted_lists(list1, list2):\n",
    "    merged_list = []\n",
    "    i, j = 0, 0\n",
    "\n",
    "    while i < len(list1) and j < len(list2):\n",
    "        if list1[i] < list2[j]:\n",
    "            merged_list.append(list1[i])\n",
    "            i += 1\n",
    "        else:\n",
    "            merged_list.append(list2[j])\n",
    "            j += 1\n",
    "\n",
    "    # Add the remaining elements from list1 and list2 (if any)\n",
    "    merged_list.extend(list1[i:])\n",
    "    merged_list.extend(list2[j:])\n",
    "\n",
    "    return merged_list\n",
    "\n",
    "# Test the function\n",
    "if __name__ == \"__main__\":\n",
    "    list1 = [1, 3, 5, 7, 9]\n",
    "    list2 = [2, 4, 6, 8, 10]\n",
    "\n",
    "    merged_list = merge_sorted_lists(list1, list2)\n",
    "    print(\"Merged Sorted List:\", merged_list)\n"
   ]
  },
  {
   "cell_type": "code",
   "execution_count": 16,
   "id": "9c59baa7-a275-4e38-aa4b-61eff337f747",
   "metadata": {},
   "outputs": [],
   "source": [
    "#Q26\n",
    "from collections import Counter\n",
    "\n",
    "def find_mode(numbers):\n",
    "    # Count the occurrences of each number\n",
    "    number_counts = Counter(numbers)\n",
    "\n",
    "    # Find the maximum count\n",
    "    max_count = max(number_counts.values())\n",
    "\n",
    "    # Find all numbers with the maximum count\n",
    "    modes = [number for number, count in number_counts.items() if count == max_count]\n",
    "\n",
    "    return modes\n"
   ]
  },
  {
   "cell_type": "code",
   "execution_count": 17,
   "id": "4b2d346f-48d7-4318-bb6f-0bf2e9659d86",
   "metadata": {},
   "outputs": [
    {
     "name": "stdin",
     "output_type": "stream",
     "text": [
      "Enter the first number:  45\n",
      "Enter the second number:  74\n"
     ]
    },
    {
     "name": "stdout",
     "output_type": "stream",
     "text": [
      "The Greatest Common Divisor (GCD) of 45 and 74 is: 1\n"
     ]
    }
   ],
   "source": [
    "#Q27\n",
    "def gcd(a, b):\n",
    "    while b != 0:\n",
    "        a, b = b, a % b\n",
    "    return a\n",
    "\n",
    "def main():\n",
    "    try:\n",
    "        num1 = int(input(\"Enter the first number: \"))\n",
    "        num2 = int(input(\"Enter the second number: \"))\n",
    "\n",
    "        if num1 < 0 or num2 < 0:\n",
    "            raise ValueError(\"Both numbers must be positive integers.\")\n",
    "\n",
    "        result = gcd(num1, num2)\n",
    "        print(\"The Greatest Common Divisor (GCD) of {} and {} is: {}\".format(num1, num2, result))\n",
    "\n",
    "    except ValueError as ve:\n",
    "        print(\"Error:\", ve)\n",
    "\n",
    "if __name__ == \"__main__\":\n",
    "    main()\n"
   ]
  },
  {
   "cell_type": "code",
   "execution_count": 18,
   "id": "9de9b6fb-3963-427f-8698-9f5b3abeb71e",
   "metadata": {},
   "outputs": [
    {
     "name": "stdout",
     "output_type": "stream",
     "text": [
      "The square root of 25 is approximately: 5.0\n"
     ]
    }
   ],
   "source": [
    "#Q28\n",
    "def square_root(number, tolerance=1e-7, max_iterations=100):\n",
    "    if number < 0:\n",
    "        raise ValueError(\"Input must be a non-negative number.\")\n",
    "\n",
    "    if number == 0:\n",
    "        return 0\n",
    "\n",
    "    # Initial guess for the square root\n",
    "    guess = number / 2.0\n",
    "\n",
    "    for _ in range(max_iterations):\n",
    "        # Calculate a better approximation using the Babylonian method\n",
    "        new_guess = 0.5 * (guess + number / guess)\n",
    "\n",
    "        # Check if the difference between the current and new guess is within the tolerance\n",
    "        if abs(new_guess - guess) < tolerance:\n",
    "            return new_guess\n",
    "\n",
    "        guess = new_guess\n",
    "\n",
    "    # If max_iterations is reached and the result hasn't converged, return the latest approximation\n",
    "    return guess\n",
    "\n",
    "# Example usage:\n",
    "number = 25\n",
    "result = square_root(number)\n",
    "print(f\"The square root of {number} is approximately: {result}\")\n"
   ]
  },
  {
   "cell_type": "code",
   "execution_count": 19,
   "id": "fdd967a0-5eee-41ef-8a07-073f08fe5f2e",
   "metadata": {},
   "outputs": [
    {
     "name": "stdout",
     "output_type": "stream",
     "text": [
      "\"A man, a plan, a canal: Panama\" is a valid palindrome.\n",
      "\"race a car\" is not a valid palindrome.\n",
      "\"Was it a car or a cat I saw?\" is a valid palindrome.\n",
      "\"No 'x' in Nixon\" is a valid palindrome.\n"
     ]
    }
   ],
   "source": [
    "#Q29\n",
    "import re\n",
    "\n",
    "def is_valid_palindrome(s):\n",
    "    # Remove non-alphanumeric characters from the string\n",
    "    alphanumeric_string = re.sub(r'\\W+', '', s.lower())\n",
    "\n",
    "    # Check if the modified string is a palindrome\n",
    "    return alphanumeric_string == alphanumeric_string[::-1]\n",
    "\n",
    "# Test cases\n",
    "test_strings = [\n",
    "    \"A man, a plan, a canal: Panama\",\n",
    "    \"race a car\",\n",
    "    \"Was it a car or a cat I saw?\",\n",
    "    \"No 'x' in Nixon\",\n",
    "]\n",
    "\n",
    "for test_string in test_strings:\n",
    "    if is_valid_palindrome(test_string):\n",
    "        print(f'\"{test_string}\" is a valid palindrome.')\n",
    "    else:\n",
    "        print(f'\"{test_string}\" is not a valid palindrome.')\n"
   ]
  },
  {
   "cell_type": "code",
   "execution_count": 20,
   "id": "da0908d8-ef2d-4413-9db0-eafd900cbab2",
   "metadata": {},
   "outputs": [
    {
     "name": "stdout",
     "output_type": "stream",
     "text": [
      "0\n"
     ]
    }
   ],
   "source": [
    "#Q30\n",
    "def find_min_element_rotated_sorted(nums):\n",
    "    left, right = 0, len(nums) - 1\n",
    "\n",
    "    while left < right:\n",
    "        mid = left + (right - left) // 2\n",
    "\n",
    "        if nums[mid] > nums[right]:\n",
    "            left = mid + 1\n",
    "        else:\n",
    "            right = mid\n",
    "\n",
    "    return nums[left]\n",
    "\n",
    "# Example usage:\n",
    "rotated_list = [4, 5, 6, 7, 0, 1, 2]\n",
    "print(find_min_element_rotated_sorted(rotated_list))  # Output: 0\n"
   ]
  },
  {
   "cell_type": "code",
   "execution_count": 21,
   "id": "e02f7967-ad32-405d-8871-ea1fd0a18e92",
   "metadata": {},
   "outputs": [
    {
     "name": "stdin",
     "output_type": "stream",
     "text": [
      "Enter a list of numbers separated by spaces:  1 5 4 6\n"
     ]
    },
    {
     "name": "stdout",
     "output_type": "stream",
     "text": [
      "Sum of even numbers in the list: 10\n"
     ]
    }
   ],
   "source": [
    "#Q31\n",
    "def sum_of_even_numbers(numbers):\n",
    "    even_sum = 0\n",
    "    for num in numbers:\n",
    "        if num % 2 == 0:\n",
    "            even_sum += num\n",
    "    return even_sum\n",
    "\n",
    "# Test the function\n",
    "if __name__ == \"__main__\":\n",
    "    try:\n",
    "        input_list = input(\"Enter a list of numbers separated by spaces: \").split()\n",
    "        numbers = [int(num) for num in input_list]\n",
    "        result = sum_of_even_numbers(numbers)\n",
    "        print(\"Sum of even numbers in the list:\", result)\n",
    "    except ValueError:\n",
    "        print(\"Invalid input. Please enter a valid list of numbers.\")\n"
   ]
  },
  {
   "cell_type": "code",
   "execution_count": 22,
   "id": "3ca90d09-0d21-4560-b61f-a813bd1b22b4",
   "metadata": {},
   "outputs": [
    {
     "name": "stdout",
     "output_type": "stream",
     "text": [
      "8\n"
     ]
    }
   ],
   "source": [
    "#Q32\n",
    "def power(base, exponent):\n",
    "    # Base case: any number raised to the power of 0 is 1\n",
    "    if exponent == 0:\n",
    "        return 1\n",
    "\n",
    "    # Recursive case: calculate power using recursion\n",
    "    return base * power(base, exponent - 1)\n",
    "result = power(2, 3)  # 2^3 = 8\n",
    "print(result)  # Output: 8\n"
   ]
  },
  {
   "cell_type": "code",
   "execution_count": 23,
   "id": "10d3f414-80d4-4a3f-b616-edd6a5adb6b2",
   "metadata": {},
   "outputs": [
    {
     "name": "stdout",
     "output_type": "stream",
     "text": [
      "[1, 2, 3, 4, 5, 6, 7]\n"
     ]
    }
   ],
   "source": [
    "#Q33\n",
    "def remove_duplicates_preserve_order(input_list):\n",
    "    seen = {}\n",
    "    result = []\n",
    "    \n",
    "    for item in input_list:\n",
    "        if item not in seen:\n",
    "            seen[item] = True\n",
    "            result.append(item)\n",
    "    \n",
    "    return result\n",
    "\n",
    "# Test the function\n",
    "if __name__ == \"__main__\":\n",
    "    input_list = [1, 2, 2, 3, 4, 3, 5, 6, 6, 7]\n",
    "    unique_list = remove_duplicates_preserve_order(input_list)\n",
    "    print(unique_list)  # Output: [1, 2, 3, 4, 5, 6, 7]\n"
   ]
  },
  {
   "cell_type": "code",
   "execution_count": 24,
   "id": "c2e5fed8-f8f1-4496-be5b-77595c6c0719",
   "metadata": {},
   "outputs": [
    {
     "name": "stdout",
     "output_type": "stream",
     "text": [
      "ap\n"
     ]
    }
   ],
   "source": [
    "#Q34\n",
    "def longest_common_prefix(strings):\n",
    "    if not strings:\n",
    "        return \"\"\n",
    "\n",
    "    prefix = strings[0]\n",
    "    for string in strings[1:]:\n",
    "        i = 0\n",
    "        while i < len(prefix) and i < len(string) and prefix[i] == string[i]:\n",
    "            i += 1\n",
    "        prefix = prefix[:i]\n",
    "\n",
    "        # If the prefix becomes empty, there's no common prefix, so we break the loop\n",
    "        if not prefix:\n",
    "            break\n",
    "\n",
    "    return prefix\n",
    "words = [\"apple\", \"apricot\", \"appetizer\", \"apartment\"]\n",
    "result = longest_common_prefix(words)\n",
    "print(result)  # Output: \"ap\"\n"
   ]
  },
  {
   "cell_type": "code",
   "execution_count": 25,
   "id": "2f403e0a-08fd-48a5-bbdc-0ea6c773ddad",
   "metadata": {},
   "outputs": [
    {
     "name": "stdin",
     "output_type": "stream",
     "text": [
      "Enter a number:  45\n"
     ]
    },
    {
     "name": "stdout",
     "output_type": "stream",
     "text": [
      "45 is not a perfect square.\n"
     ]
    }
   ],
   "source": [
    "#Q35\n",
    "def is_perfect_square(number):\n",
    "    # Check if the number is a perfect square by finding the square root\n",
    "    square_root = number ** 0.5\n",
    "\n",
    "    # Check if the square root is an integer (i.e., it has no decimal part)\n",
    "    return square_root == int(square_root)\n",
    "\n",
    "# Test cases\n",
    "if __name__ == \"__main__\":\n",
    "    try:\n",
    "        num = int(input(\"Enter a number: \"))\n",
    "        if num < 0:\n",
    "            print(\"Please enter a non-negative integer.\")\n",
    "        else:\n",
    "            if is_perfect_square(num):\n",
    "                print(f\"{num} is a perfect square.\")\n",
    "            else:\n",
    "                print(f\"{num} is not a perfect square.\")\n",
    "    except ValueError:\n",
    "        print(\"Invalid input. Please enter an integer.\")\n"
   ]
  },
  {
   "cell_type": "code",
   "execution_count": 26,
   "id": "5cfc83fd-124c-4e0c-83a6-99c24c84affe",
   "metadata": {},
   "outputs": [
    {
     "name": "stdout",
     "output_type": "stream",
     "text": [
      "120\n"
     ]
    }
   ],
   "source": [
    "#Q36\n",
    "def calculate_product(lst):\n",
    "    if not lst:\n",
    "        return 1  # Empty list, product is 1\n",
    "\n",
    "    product = 1\n",
    "    for num in lst:\n",
    "        product *= num\n",
    "\n",
    "    return product\n",
    "# Example usage:\n",
    "my_list = [2, 3, 4, 5]\n",
    "result = calculate_product(my_list)\n",
    "print(result)  # Output: 120 (2 * 3 * 4 * 5 = 120)\n"
   ]
  },
  {
   "cell_type": "code",
   "execution_count": 27,
   "id": "15d11680-1070-4a84-89b5-57b4e97c42fb",
   "metadata": {},
   "outputs": [
    {
     "name": "stdin",
     "output_type": "stream",
     "text": [
      "Enter a sentence:  AMS ASM \n"
     ]
    },
    {
     "name": "stdout",
     "output_type": "stream",
     "text": [
      "Reversed sentence: ASM AMS\n"
     ]
    }
   ],
   "source": [
    "#Q37\n",
    "def reverse_sentence(sentence):\n",
    "    words = sentence.split()  # Split the sentence into a list of words\n",
    "    reversed_words = words[::-1]  # Reverse the order of words using slicing\n",
    "\n",
    "    reversed_sentence = \" \".join(reversed_words)  # Join the reversed words back into a sentence\n",
    "    return reversed_sentence\n",
    "\n",
    "# Example usage\n",
    "sentence = input(\"Enter a sentence: \")\n",
    "reversed_sentence = reverse_sentence(sentence)\n",
    "print(\"Reversed sentence:\", reversed_sentence)\n"
   ]
  },
  {
   "cell_type": "code",
   "execution_count": 28,
   "id": "3c6ddfb7-2d58-458e-bb1f-bc34828042a6",
   "metadata": {},
   "outputs": [
    {
     "name": "stdout",
     "output_type": "stream",
     "text": [
      "The missing number is: 4\n"
     ]
    }
   ],
   "source": [
    "#Q38\n",
    "def find_missing_number(consecutive_list):\n",
    "    # Calculate the sum of the entire sequence\n",
    "    n = len(consecutive_list) + 1\n",
    "    total_sum = n * (n + 1) // 2\n",
    "    \n",
    "    # Calculate the sum of the given list\n",
    "    list_sum = sum(consecutive_list)\n",
    "    \n",
    "    # Calculate the missing number\n",
    "    missing_number = total_sum - list_sum\n",
    "    \n",
    "    return missing_number\n",
    "consecutive_list = [1, 2, 3, 5, 6, 7, 8]\n",
    "missing_number = find_missing_number(consecutive_list)\n",
    "print(\"The missing number is:\", missing_number)\n"
   ]
  },
  {
   "cell_type": "code",
   "execution_count": 29,
   "id": "90e000c2-958e-42d9-8fea-de2f213d0017",
   "metadata": {},
   "outputs": [
    {
     "name": "stdin",
     "output_type": "stream",
     "text": [
      "Enter a number:  45\n"
     ]
    },
    {
     "name": "stdout",
     "output_type": "stream",
     "text": [
      "The sum of the digits of 45 is 9.\n"
     ]
    }
   ],
   "source": [
    "#Q39\n",
    "def sum_of_digits(number):\n",
    "    # Initialize the sum to 0\n",
    "    sum_digits = 0\n",
    "\n",
    "    # Convert the number to a positive integer (abs) to handle negative numbers.\n",
    "    number = abs(number)\n",
    "\n",
    "    # Iterate through each digit of the number\n",
    "    while number > 0:\n",
    "        # Extract the last digit of the number\n",
    "        digit = number % 10\n",
    "\n",
    "        # Add the digit to the sum\n",
    "        sum_digits += digit\n",
    "\n",
    "        # Remove the last digit from the number\n",
    "        number //= 10\n",
    "\n",
    "    return sum_digits\n",
    "\n",
    "# Get input from the user\n",
    "try:\n",
    "    num = int(input(\"Enter a number: \"))\n",
    "    result = sum_of_digits(num)\n",
    "    print(f\"The sum of the digits of {num} is {result}.\")\n",
    "except ValueError:\n",
    "    print(\"Invalid input! Please enter a valid integer.\")\n"
   ]
  },
  {
   "cell_type": "code",
   "execution_count": 30,
   "id": "7ccaf0d4-8b0c-49d5-99ef-d95ecea32021",
   "metadata": {},
   "outputs": [
    {
     "name": "stdout",
     "output_type": "stream",
     "text": [
      "True\n",
      "False\n",
      "True\n",
      "True\n",
      "True\n"
     ]
    }
   ],
   "source": [
    "#Q40\n",
    "def is_valid_palindrome(s):\n",
    "    # Remove non-alphanumeric characters and convert the string to lowercase\n",
    "    s = ''.join(char.lower() for char in s if char.isalnum())\n",
    "    \n",
    "    # Check if the modified string is equal to its reverse\n",
    "    return s == s[::-1]\n",
    "\n",
    "# Test cases\n",
    "print(is_valid_palindrome(\"A man, a plan, a canal: Panama\"))  # True\n",
    "print(is_valid_palindrome(\"race a car\"))                       # False\n",
    "print(is_valid_palindrome(\"Never odd or even\"))                # True\n",
    "print(is_valid_palindrome(\"Step on no pets\"))                  # True\n",
    "print(is_valid_palindrome(\"No lemon, no melon\"))               # False\n"
   ]
  },
  {
   "cell_type": "code",
   "execution_count": 31,
   "id": "00e86970-f7e6-4ff7-a4e4-14de50c88a38",
   "metadata": {},
   "outputs": [
    {
     "name": "stdout",
     "output_type": "stream",
     "text": [
      "The smallest missing positive integer is: 2\n"
     ]
    }
   ],
   "source": [
    "#Q41\n",
    "def find_smallest_missing_positive(nums):\n",
    "    nums.sort()  # Sort the list in ascending order\n",
    "\n",
    "    # Initialize the smallest_missing variable to 1 (since the smallest positive integer is 1)\n",
    "    smallest_missing = 1\n",
    "\n",
    "    for num in nums:\n",
    "        # If the current number is less than or equal to the smallest_missing, update smallest_missing\n",
    "        if num == smallest_missing:\n",
    "            smallest_missing += 1\n",
    "        elif num > smallest_missing:\n",
    "            # If the current number is greater than the current smallest_missing, break the loop\n",
    "            break\n",
    "\n",
    "    return smallest_missing\n",
    "\n",
    "# Example usage:\n",
    "if __name__ == \"__main__\":\n",
    "    numbers = [3, 4, -1, 1]\n",
    "    result = find_smallest_missing_positive(numbers)\n",
    "    print(f\"The smallest missing positive integer is: {result}\")\n"
   ]
  },
  {
   "cell_type": "code",
   "execution_count": 32,
   "id": "6f516981-97f5-4e1f-b6f7-4381f0fcb4c5",
   "metadata": {},
   "outputs": [
    {
     "name": "stdout",
     "output_type": "stream",
     "text": [
      "aba\n"
     ]
    }
   ],
   "source": [
    "#Q42\n",
    "def longest_palindrome_substring(s):\n",
    "    if not s or len(s) == 1:\n",
    "        return s\n",
    "\n",
    "    n = len(s)\n",
    "    # Create a table to store the state of palindromes\n",
    "    dp = [[False for _ in range(n)] for _ in range(n)]\n",
    "\n",
    "    # All substrings of length 1 are palindromes\n",
    "    for i in range(n):\n",
    "        dp[i][i] = True\n",
    "        start, max_length = i, 1\n",
    "\n",
    "    # Check for palindromes of length 2\n",
    "    for i in range(n - 1):\n",
    "        if s[i] == s[i + 1]:\n",
    "            dp[i][i + 1] = True\n",
    "            start, max_length = i, 2\n",
    "\n",
    "    # Check for palindromes of length greater than 2\n",
    "    for length in range(3, n + 1):\n",
    "        for i in range(n - length + 1):\n",
    "            j = i + length - 1  # Ending index of the substring\n",
    "\n",
    "            # Check if the current substring is a palindrome\n",
    "            if s[i] == s[j] and dp[i + 1][j - 1]:\n",
    "                dp[i][j] = True\n",
    "                start, max_length = i, length\n",
    "\n",
    "    # Extract the longest palindrome substring\n",
    "    return s[start:start + max_length]\n",
    "\n",
    "# Test the function\n",
    "input_string = \"babad\"\n",
    "print(longest_palindrome_substring(input_string))  # Output: \"bab\" or \"aba\"\n"
   ]
  },
  {
   "cell_type": "code",
   "execution_count": 33,
   "id": "9c772cd0-1995-468c-aa48-4e345b981734",
   "metadata": {},
   "outputs": [
    {
     "name": "stdout",
     "output_type": "stream",
     "text": [
      "The number of occurrences of 2 in the list is: 4\n"
     ]
    }
   ],
   "source": [
    "#Q43\n",
    "def count_occurrences(lst, target):\n",
    "    count = 0\n",
    "    for item in lst:\n",
    "        if item == target:\n",
    "            count += 1\n",
    "    return count\n",
    "\n",
    "# Test the function\n",
    "if __name__ == \"__main__\":\n",
    "    try:\n",
    "        # Sample list\n",
    "        input_list = [1, 2, 3, 4, 2, 2, 5, 6, 2, 7]\n",
    "\n",
    "        # Element to find occurrences of\n",
    "        target_element = 2\n",
    "\n",
    "        # Count the occurrences of the target element in the list\n",
    "        occurrences = count_occurrences(input_list, target_element)\n",
    "\n",
    "        print(f\"The number of occurrences of {target_element} in the list is: {occurrences}\")\n",
    "    except Exception as e:\n",
    "        print(\"An error occurred:\", e)\n"
   ]
  },
  {
   "cell_type": "code",
   "execution_count": 34,
   "id": "e33bc8ad-1350-4a41-95bb-4834816720e5",
   "metadata": {},
   "outputs": [
    {
     "name": "stdout",
     "output_type": "stream",
     "text": [
      "28 is a perfect number.\n"
     ]
    }
   ],
   "source": [
    "#Q44\n",
    "def is_perfect_number(number):\n",
    "    if number <= 0:\n",
    "        return False\n",
    "\n",
    "    divisors_sum = 0\n",
    "    for i in range(1, number):\n",
    "        if number % i == 0:\n",
    "            divisors_sum += i\n",
    "\n",
    "    return divisors_sum == number\n",
    "\n",
    "# Test the function\n",
    "number_to_check = 28\n",
    "if is_perfect_number(number_to_check):\n",
    "    print(f\"{number_to_check} is a perfect number.\")\n",
    "else:\n",
    "    print(f\"{number_to_check} is not a perfect number.\")\n"
   ]
  },
  {
   "cell_type": "code",
   "execution_count": 36,
   "id": "751f43e8-debb-4a95-86c2-1d1b06dbe11e",
   "metadata": {},
   "outputs": [
    {
     "name": "stdin",
     "output_type": "stream",
     "text": [
      "Enter a string:  AASADFFF\n"
     ]
    },
    {
     "name": "stdout",
     "output_type": "stream",
     "text": [
      "String after removing duplicates: ASDF\n"
     ]
    }
   ],
   "source": [
    "#Q45\n",
    "def remove_duplicates(string):\n",
    "    # Create an empty set to store unique characters\n",
    "    unique_chars = set()\n",
    "\n",
    "    # Create an empty string to store the result\n",
    "    result = \"\"\n",
    "\n",
    "    # Iterate over each character in the string\n",
    "    for char in string:\n",
    "        # Check if the character is already in the set\n",
    "        if char not in unique_chars:\n",
    "            # If it's not in the set, add it to the set and the result string\n",
    "            unique_chars.add(char)\n",
    "            result += char\n",
    "\n",
    "    return result\n",
    "\n",
    "\n",
    "# Test the function\n",
    "input_string = input(\"Enter a string: \")\n",
    "result_string = remove_duplicates(input_string)\n",
    "print(\"String after removing duplicates:\", result_string)\n"
   ]
  },
  {
   "cell_type": "code",
   "execution_count": null,
   "id": "af0477d0-a033-4ad2-a23b-3797f2078a0d",
   "metadata": {},
   "outputs": [],
   "source": [
    "#Q46\n"
   ]
  }
 ],
 "metadata": {
  "kernelspec": {
   "display_name": "Python 3 (ipykernel)",
   "language": "python",
   "name": "python3"
  },
  "language_info": {
   "codemirror_mode": {
    "name": "ipython",
    "version": 3
   },
   "file_extension": ".py",
   "mimetype": "text/x-python",
   "name": "python",
   "nbconvert_exporter": "python",
   "pygments_lexer": "ipython3",
   "version": "3.10.8"
  }
 },
 "nbformat": 4,
 "nbformat_minor": 5
}
